{
 "cells": [
  {
   "cell_type": "code",
   "execution_count": null,
   "id": "fad9c543-3cd8-4f38-bdcf-72abcfbd81fd",
   "metadata": {},
   "outputs": [],
   "source": [
    "### 7.4\n",
    "things = [\"mozzarella\", \"cinderella\", \"salmonella\"]\n",
    "print(things)\n",
    "\n",
    "### 7.5\n",
    "things[1] = things[1].capitalize()\n",
    "print(things)  # The list element changed\n",
    "\n",
    "### 7.6\n",
    "things[0] = things[0].upper()\n",
    "print(things)\n",
    "\n",
    "### 7.7\n",
    "del things[2]\n",
    "print(things)  # \"salmonella\" removed\n",
    "\n",
    "### 9.1\n",
    "def good():\n",
    "    return [\"Harry\", \"Ron\", \"Hermione\"]\n",
    "\n",
    "print(good())\n",
    "\n",
    "### 9.2\n",
    "def get_odds():\n",
    "    for num in range(10):\n",
    "        if num % 2 != 0:\n",
    "            yield num\n",
    "\n",
    "odds = get_odds()\n",
    "for i, value in enumerate(odds, start=1):\n",
    "    if i == 3:\n",
    "        print(value)  # Printing the third odd number\n",
    "        break\n"
   ]
  }
 ],
 "metadata": {
  "kernelspec": {
   "display_name": "Python [conda env:base] *",
   "language": "python",
   "name": "conda-base-py"
  },
  "language_info": {
   "codemirror_mode": {
    "name": "ipython",
    "version": 3
   },
   "file_extension": ".py",
   "mimetype": "text/x-python",
   "name": "python",
   "nbconvert_exporter": "python",
   "pygments_lexer": "ipython3",
   "version": "3.12.7"
  }
 },
 "nbformat": 4,
 "nbformat_minor": 5
}
