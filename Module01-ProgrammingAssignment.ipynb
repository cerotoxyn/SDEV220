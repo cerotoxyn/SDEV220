{
 "cells": [
  {
   "cell_type": "code",
   "execution_count": null,
   "id": "a882c7ef-f9a1-4aa8-8a93-61f86a29ed52",
   "metadata": {},
   "outputs": [],
   "source": [
    "## 3.1 How many seconds are in an hour?\n",
    "To calculate the number of seconds in an hour, we multiply the number of seconds in a minute (60) by the number of minutes in an hour (60).\n",
    "\n",
    "60 * 60\n",
    "\n",
    "## 3.2 Assign the result to a variable seconds_per_hour\n",
    "\n",
    "seconds_per_hour = 60 * 60\n",
    "\n",
    "## 3.3 How many seconds are in a day?\n",
    "\n",
    "seconds_per\n",
    "## 3.4 Save the result in a variable seconds_per_day\n",
    "\n",
    "\n",
    "## 3.5 Divide seconds_per_day by seconds_per_hour using floating-point division\n",
    "\n",
    "\n",
    "## 3.6 Divide seconds_per_day by seconds_per_hour using integer division \n",
    "\n"
   ]
  }
 ],
 "metadata": {
  "kernelspec": {
   "display_name": "Python [conda env:base] *",
   "language": "python",
   "name": "conda-base-py"
  },
  "language_info": {
   "codemirror_mode": {
    "name": "ipython",
    "version": 3
   },
   "file_extension": ".py",
   "mimetype": "text/x-python",
   "name": "python",
   "nbconvert_exporter": "python",
   "pygments_lexer": "ipython3",
   "version": "3.12.7"
  }
 },
 "nbformat": 4,
 "nbformat_minor": 5
}
